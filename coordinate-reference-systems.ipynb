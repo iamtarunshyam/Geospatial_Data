{
 "cells": [
  {
   "cell_type": "markdown",
   "id": "dd5f11fd",
   "metadata": {
    "papermill": {
     "duration": 0.005008,
     "end_time": "2025-05-27T12:57:46.535870",
     "exception": false,
     "start_time": "2025-05-27T12:57:46.530862",
     "status": "completed"
    },
    "tags": []
   },
   "source": [
    "# Coordinate Reference Systems\n",
    "\n",
    "Converting earth surface in 2 dimension\n",
    "- map projection to render it as a flat surface\n",
    " - equal-area projections - preserving area of the map\n",
    " - equidistant projections - preserving the distance in the map"
   ]
  },
  {
   "cell_type": "code",
   "execution_count": 1,
   "id": "af284931",
   "metadata": {
    "execution": {
     "iopub.execute_input": "2025-05-27T12:57:46.545889Z",
     "iopub.status.busy": "2025-05-27T12:57:46.545568Z",
     "iopub.status.idle": "2025-05-27T12:57:49.463598Z",
     "shell.execute_reply": "2025-05-27T12:57:49.462362Z"
    },
    "papermill": {
     "duration": 2.924756,
     "end_time": "2025-05-27T12:57:49.465277",
     "exception": false,
     "start_time": "2025-05-27T12:57:46.540521",
     "status": "completed"
    },
    "tags": []
   },
   "outputs": [],
   "source": [
    "import geopandas as gpd\n",
    "import pandas as pd"
   ]
  },
  {
   "cell_type": "code",
   "execution_count": 2,
   "id": "4bc016b8",
   "metadata": {
    "_cell_guid": "b1076dfc-b9ad-4769-8c92-a6c4dae69d19",
    "_uuid": "8f2839f25d086af736a60e9eeb907d3b93b6e0e5",
    "collapsed": true,
    "execution": {
     "iopub.execute_input": "2025-05-27T12:57:49.475258Z",
     "iopub.status.busy": "2025-05-27T12:57:49.474841Z",
     "iopub.status.idle": "2025-05-27T12:57:49.651453Z",
     "shell.execute_reply": "2025-05-27T12:57:49.650431Z"
    },
    "jupyter": {
     "outputs_hidden": true
    },
    "papermill": {
     "duration": 0.184132,
     "end_time": "2025-05-27T12:57:49.653912",
     "exception": false,
     "start_time": "2025-05-27T12:57:49.469780",
     "status": "completed"
    },
    "tags": []
   },
   "outputs": [
    {
     "name": "stdout",
     "output_type": "stream",
     "text": [
      "/kaggle/input/geospatial-learn-course-data/CA_county_median_age.csv\n",
      "/kaggle/input/geospatial-learn-course-data/top_universities.csv\n",
      "/kaggle/input/geospatial-learn-course-data/japan-prefecture-population.csv\n",
      "/kaggle/input/geospatial-learn-course-data/CA_county_population.csv\n",
      "/kaggle/input/geospatial-learn-course-data/earthquakes1970-2014.csv\n",
      "/kaggle/input/geospatial-learn-course-data/Philippines_AL258.kml\n",
      "/kaggle/input/geospatial-learn-course-data/starbucks_locations.csv\n",
      "/kaggle/input/geospatial-learn-course-data/purple_martin.csv\n",
      "/kaggle/input/geospatial-learn-course-data/CA_county_high_earners.csv\n",
      "/kaggle/input/geospatial-learn-course-data/PhillyHealth_Air_Monitoring_Stations/PhillyHealth_Air_Monitoring_Stations/PhillyHealth_Air_Monitoring_Stations.cpg\n",
      "/kaggle/input/geospatial-learn-course-data/PhillyHealth_Air_Monitoring_Stations/PhillyHealth_Air_Monitoring_Stations/PhillyHealth_Air_Monitoring_Stations.shx\n",
      "/kaggle/input/geospatial-learn-course-data/PhillyHealth_Air_Monitoring_Stations/PhillyHealth_Air_Monitoring_Stations/PhillyHealth_Air_Monitoring_Stations.shp\n",
      "/kaggle/input/geospatial-learn-course-data/PhillyHealth_Air_Monitoring_Stations/PhillyHealth_Air_Monitoring_Stations/PhillyHealth_Air_Monitoring_Stations.prj\n",
      "/kaggle/input/geospatial-learn-course-data/PhillyHealth_Air_Monitoring_Stations/PhillyHealth_Air_Monitoring_Stations/PhillyHealth_Air_Monitoring_Stations.dbf\n",
      "/kaggle/input/geospatial-learn-course-data/NYPD_Motor_Vehicle_Collisions/NYPD_Motor_Vehicle_Collisions/NYPD_Motor_Vehicle_Collisions.cpg\n",
      "/kaggle/input/geospatial-learn-course-data/NYPD_Motor_Vehicle_Collisions/NYPD_Motor_Vehicle_Collisions/NYPD_Motor_Vehicle_Collisions.shp\n",
      "/kaggle/input/geospatial-learn-course-data/NYPD_Motor_Vehicle_Collisions/NYPD_Motor_Vehicle_Collisions/NYPD_Motor_Vehicle_Collisions.dbf\n",
      "/kaggle/input/geospatial-learn-course-data/NYPD_Motor_Vehicle_Collisions/NYPD_Motor_Vehicle_Collisions/NYPD_Motor_Vehicle_Collisions.shx\n",
      "/kaggle/input/geospatial-learn-course-data/NYPD_Motor_Vehicle_Collisions/NYPD_Motor_Vehicle_Collisions/NYPD_Motor_Vehicle_Collisions.prj\n",
      "/kaggle/input/geospatial-learn-course-data/ex4_files/ex4_files/add_3.cpg\n",
      "/kaggle/input/geospatial-learn-course-data/ex4_files/ex4_files/add_4.shx\n",
      "/kaggle/input/geospatial-learn-course-data/ex4_files/ex4_files/add_2.dbf\n",
      "/kaggle/input/geospatial-learn-course-data/ex4_files/ex4_files/add_4.dbf\n",
      "/kaggle/input/geospatial-learn-course-data/ex4_files/ex4_files/add_3.shx\n",
      "/kaggle/input/geospatial-learn-course-data/ex4_files/ex4_files/add_2.shp\n",
      "/kaggle/input/geospatial-learn-course-data/ex4_files/ex4_files/add_0.dbf\n",
      "/kaggle/input/geospatial-learn-course-data/ex4_files/ex4_files/add_1.dbf\n",
      "/kaggle/input/geospatial-learn-course-data/ex4_files/ex4_files/add_2.cpg\n",
      "/kaggle/input/geospatial-learn-course-data/ex4_files/ex4_files/add_0.cpg\n",
      "/kaggle/input/geospatial-learn-course-data/ex4_files/ex4_files/add_1.shx\n",
      "/kaggle/input/geospatial-learn-course-data/ex4_files/ex4_files/add_3.dbf\n",
      "/kaggle/input/geospatial-learn-course-data/ex4_files/ex4_files/add_4.cpg\n",
      "/kaggle/input/geospatial-learn-course-data/ex4_files/ex4_files/add_0.shx\n",
      "/kaggle/input/geospatial-learn-course-data/ex4_files/ex4_files/add_2.prj\n",
      "/kaggle/input/geospatial-learn-course-data/ex4_files/ex4_files/add_4.shp\n",
      "/kaggle/input/geospatial-learn-course-data/ex4_files/ex4_files/add_1.cpg\n",
      "/kaggle/input/geospatial-learn-course-data/ex4_files/ex4_files/add_3.prj\n",
      "/kaggle/input/geospatial-learn-course-data/ex4_files/ex4_files/add_0.shp\n",
      "/kaggle/input/geospatial-learn-course-data/ex4_files/ex4_files/add_4.prj\n",
      "/kaggle/input/geospatial-learn-course-data/ex4_files/ex4_files/add_1.prj\n",
      "/kaggle/input/geospatial-learn-course-data/ex4_files/ex4_files/add_0.prj\n",
      "/kaggle/input/geospatial-learn-course-data/ex4_files/ex4_files/add_1.shp\n",
      "/kaggle/input/geospatial-learn-course-data/ex4_files/ex4_files/add_2.shx\n",
      "/kaggle/input/geospatial-learn-course-data/ex4_files/ex4_files/add_3.shp\n",
      "/kaggle/input/geospatial-learn-course-data/nyu_2451_34494/nyu_2451_34494/nyu_2451_34494.shx\n",
      "/kaggle/input/geospatial-learn-course-data/nyu_2451_34494/nyu_2451_34494/nyu_2451_34494.prj\n",
      "/kaggle/input/geospatial-learn-course-data/nyu_2451_34494/nyu_2451_34494/nyu_2451_34494.shp\n",
      "/kaggle/input/geospatial-learn-course-data/nyu_2451_34494/nyu_2451_34494/nyu_2451_34494.cpg\n",
      "/kaggle/input/geospatial-learn-course-data/nyu_2451_34494/nyu_2451_34494/nyu_2451_34494.dbf\n",
      "/kaggle/input/geospatial-learn-course-data/SAPA_Aug2019-shapefile/SAPA_Aug2019-shapefile/SAPA_Aug2019-shapefile-polygons.cpg\n",
      "/kaggle/input/geospatial-learn-course-data/SAPA_Aug2019-shapefile/SAPA_Aug2019-shapefile/SAPA_Aug2019-shapefile-polygons.shp\n",
      "/kaggle/input/geospatial-learn-course-data/SAPA_Aug2019-shapefile/SAPA_Aug2019-shapefile/SAPA_Aug2019-shapefile-polygons.shx\n",
      "/kaggle/input/geospatial-learn-course-data/SAPA_Aug2019-shapefile/SAPA_Aug2019-shapefile/SAPA_Aug2019-shapefile-polygons.dbf\n",
      "/kaggle/input/geospatial-learn-course-data/SAPA_Aug2019-shapefile/SAPA_Aug2019-shapefile/SAPA_Aug2019-shapefile-polygons.prj\n",
      "/kaggle/input/geospatial-learn-course-data/Plate_Boundaries/Plate_Boundaries/Plate_Boundaries.prj\n",
      "/kaggle/input/geospatial-learn-course-data/Plate_Boundaries/Plate_Boundaries/Plate_Boundaries.shx\n",
      "/kaggle/input/geospatial-learn-course-data/Plate_Boundaries/Plate_Boundaries/Plate_Boundaries.dbf\n",
      "/kaggle/input/geospatial-learn-course-data/Plate_Boundaries/Plate_Boundaries/Plate_Boundaries.shp.xml\n",
      "/kaggle/input/geospatial-learn-course-data/Plate_Boundaries/Plate_Boundaries/Plate_Boundaries.shp\n",
      "/kaggle/input/geospatial-learn-course-data/Plate_Boundaries/Plate_Boundaries/Plate_Boundaries.sbn\n",
      "/kaggle/input/geospatial-learn-course-data/Plate_Boundaries/Plate_Boundaries/Plate_Boundaries.sbx\n",
      "/kaggle/input/geospatial-learn-course-data/DEC_roadstrails/DEC_roadstrails/Decroadstrails.prj\n",
      "/kaggle/input/geospatial-learn-course-data/DEC_roadstrails/DEC_roadstrails/Decroadstrails.shp\n",
      "/kaggle/input/geospatial-learn-course-data/DEC_roadstrails/DEC_roadstrails/Decroadstrails.CPG\n",
      "/kaggle/input/geospatial-learn-course-data/DEC_roadstrails/DEC_roadstrails/Decroadstrails.dbf\n",
      "/kaggle/input/geospatial-learn-course-data/DEC_roadstrails/DEC_roadstrails/Decroadstrails.sbn\n",
      "/kaggle/input/geospatial-learn-course-data/DEC_roadstrails/DEC_roadstrails/Decroadstrails.shp.xml\n",
      "/kaggle/input/geospatial-learn-course-data/DEC_roadstrails/DEC_roadstrails/Decroadstrails.shx\n",
      "/kaggle/input/geospatial-learn-course-data/DEC_roadstrails/DEC_roadstrails/Decroadstrails.sbx\n",
      "/kaggle/input/geospatial-learn-course-data/DEC_roadstrails/DEC_roadstrails/DECroadstrails.html\n",
      "/kaggle/input/geospatial-learn-course-data/crimes-in-boston/crimes-in-boston/crime.csv\n",
      "/kaggle/input/geospatial-learn-course-data/crimes-in-boston/crimes-in-boston/offense_codes.csv\n",
      "/kaggle/input/geospatial-learn-course-data/kiva_loans/kiva_loans/kiva_loans.cpg\n",
      "/kaggle/input/geospatial-learn-course-data/kiva_loans/kiva_loans/kiva_loans.shx\n",
      "/kaggle/input/geospatial-learn-course-data/kiva_loans/kiva_loans/kiva_loans.dbf\n",
      "/kaggle/input/geospatial-learn-course-data/kiva_loans/kiva_loans/kiva_loans.shp\n",
      "/kaggle/input/geospatial-learn-course-data/Police_Districts/Police_Districts/Police_Districts.shp\n",
      "/kaggle/input/geospatial-learn-course-data/Police_Districts/Police_Districts/Police_Districts.dbf\n",
      "/kaggle/input/geospatial-learn-course-data/Police_Districts/Police_Districts/Police_Districts.prj\n",
      "/kaggle/input/geospatial-learn-course-data/Police_Districts/Police_Districts/Police_Districts.cpg\n",
      "/kaggle/input/geospatial-learn-course-data/Police_Districts/Police_Districts/Police_Districts.shx\n",
      "/kaggle/input/geospatial-learn-course-data/japan-prefecture-boundaries/japan-prefecture-boundaries/japan-prefecture-boundaries.cpg\n",
      "/kaggle/input/geospatial-learn-course-data/japan-prefecture-boundaries/japan-prefecture-boundaries/japan-prefecture-boundaries.dbf\n",
      "/kaggle/input/geospatial-learn-course-data/japan-prefecture-boundaries/japan-prefecture-boundaries/japan-prefecture-boundaries.shp\n",
      "/kaggle/input/geospatial-learn-course-data/japan-prefecture-boundaries/japan-prefecture-boundaries/japan-prefecture-boundaries.shx\n",
      "/kaggle/input/geospatial-learn-course-data/japan-prefecture-boundaries/japan-prefecture-boundaries/japan-prefecture-boundaries.prj\n",
      "/kaggle/input/geospatial-learn-course-data/DEC_pointsinterest/DEC_pointsinterest/Decptsofinterest.shx\n",
      "/kaggle/input/geospatial-learn-course-data/DEC_pointsinterest/DEC_pointsinterest/DEC_pointsinterest.htm\n",
      "/kaggle/input/geospatial-learn-course-data/DEC_pointsinterest/DEC_pointsinterest/Decptsofinterest.sbx\n",
      "/kaggle/input/geospatial-learn-course-data/DEC_pointsinterest/DEC_pointsinterest/Decptsofinterest.dbf\n",
      "/kaggle/input/geospatial-learn-course-data/DEC_pointsinterest/DEC_pointsinterest/Decptsofinterest.CPG\n",
      "/kaggle/input/geospatial-learn-course-data/DEC_pointsinterest/DEC_pointsinterest/Decptsofinterest.sbn\n",
      "/kaggle/input/geospatial-learn-course-data/DEC_pointsinterest/DEC_pointsinterest/Decptsofinterest.shp\n",
      "/kaggle/input/geospatial-learn-course-data/DEC_pointsinterest/DEC_pointsinterest/Decptsofinterest.shp.xml\n",
      "/kaggle/input/geospatial-learn-course-data/DEC_pointsinterest/DEC_pointsinterest/Decptsofinterest.prj\n",
      "/kaggle/input/geospatial-learn-course-data/CA_county_boundaries/CA_county_boundaries/CA_county_boundaries.prj\n",
      "/kaggle/input/geospatial-learn-course-data/CA_county_boundaries/CA_county_boundaries/CA_county_boundaries.dbf\n",
      "/kaggle/input/geospatial-learn-course-data/CA_county_boundaries/CA_county_boundaries/CA_county_boundaries.shp\n",
      "/kaggle/input/geospatial-learn-course-data/CA_county_boundaries/CA_county_boundaries/CA_county_boundaries.shx\n",
      "/kaggle/input/geospatial-learn-course-data/CA_county_boundaries/CA_county_boundaries/CA_county_boundaries.cpg\n",
      "/kaggle/input/geospatial-learn-course-data/ghana/ghana/health_facilities.csv\n",
      "/kaggle/input/geospatial-learn-course-data/ghana/ghana/Regions/Map_of_Regions_in_Ghana.cpg\n",
      "/kaggle/input/geospatial-learn-course-data/ghana/ghana/Regions/Map_of_Regions_in_Ghana.shp\n",
      "/kaggle/input/geospatial-learn-course-data/ghana/ghana/Regions/Map_of_Regions_in_Ghana.shx\n",
      "/kaggle/input/geospatial-learn-course-data/ghana/ghana/Regions/Map_of_Regions_in_Ghana.dbf\n",
      "/kaggle/input/geospatial-learn-course-data/ghana/ghana/Regions/Map_of_Regions_in_Ghana.shp.xml\n",
      "/kaggle/input/geospatial-learn-course-data/ghana/ghana/Regions/Map_of_Regions_in_Ghana.prj\n",
      "/kaggle/input/geospatial-learn-course-data/DEC_lands/DEC_lands/DEC_lands.sbx\n",
      "/kaggle/input/geospatial-learn-course-data/DEC_lands/DEC_lands/DEC_lands.shp.xml\n",
      "/kaggle/input/geospatial-learn-course-data/DEC_lands/DEC_lands/DEC_Lands.html\n",
      "/kaggle/input/geospatial-learn-course-data/DEC_lands/DEC_lands/DEC_lands.cpg\n",
      "/kaggle/input/geospatial-learn-course-data/DEC_lands/DEC_lands/DEC_lands.prj\n",
      "/kaggle/input/geospatial-learn-course-data/DEC_lands/DEC_lands/DEC_lands.dbf\n",
      "/kaggle/input/geospatial-learn-course-data/DEC_lands/DEC_lands/DEC_lands.shx\n",
      "/kaggle/input/geospatial-learn-course-data/DEC_lands/DEC_lands/DEC_lands.sbn\n",
      "/kaggle/input/geospatial-learn-course-data/DEC_lands/DEC_lands/DEC_lands.shp\n",
      "/kaggle/input/geospatial-learn-course-data/toxic_release_pennsylvania/toxic_release_pennsylvania/toxic_release_pennsylvania.shp\n",
      "/kaggle/input/geospatial-learn-course-data/toxic_release_pennsylvania/toxic_release_pennsylvania/toxic_release_pennsylvania.cpg\n",
      "/kaggle/input/geospatial-learn-course-data/toxic_release_pennsylvania/toxic_release_pennsylvania/toxic_release_pennsylvania.shx\n",
      "/kaggle/input/geospatial-learn-course-data/toxic_release_pennsylvania/toxic_release_pennsylvania/toxic_release_pennsylvania.dbf\n",
      "/kaggle/input/geospatial-learn-course-data/toxic_release_pennsylvania/toxic_release_pennsylvania/toxic_release_pennsylvania.prj\n",
      "/kaggle/input/geospatial-learn-course-data/NY_county_boundaries/NY_county_boundaries/NY_county_boundaries.prj\n",
      "/kaggle/input/geospatial-learn-course-data/NY_county_boundaries/NY_county_boundaries/NY_county_boundaries.shp\n",
      "/kaggle/input/geospatial-learn-course-data/NY_county_boundaries/NY_county_boundaries/NY_county_boundaries.shx\n",
      "/kaggle/input/geospatial-learn-course-data/NY_county_boundaries/NY_county_boundaries/NY_county_boundaries.dbf\n",
      "/kaggle/input/geospatial-learn-course-data/NY_county_boundaries/NY_county_boundaries/NY_county_boundaries.cpg\n"
     ]
    }
   ],
   "source": [
    "# This Python 3 environment comes with many helpful analytics libraries installed\n",
    "# It is defined by the kaggle/python Docker image: https://github.com/kaggle/docker-python\n",
    "# For example, here's several helpful packages to load\n",
    "\n",
    "import numpy as np # linear algebra\n",
    "import pandas as pd # data processing, CSV file I/O (e.g. pd.read_csv)\n",
    "\n",
    "# Input data files are available in the read-only \"../input/\" directory\n",
    "# For example, running this (by clicking run or pressing Shift+Enter) will list all files under the input directory\n",
    "\n",
    "import os\n",
    "for dirname, _, filenames in os.walk('/kaggle/input/geospatial-learn-course-data'):\n",
    "    for filename in filenames:\n",
    "        print(os.path.join(dirname, filename))\n",
    "\n",
    "# You can write up to 20GB to the current directory (/kaggle/working/) that gets preserved as output when you create a version using \"Save & Run All\" \n",
    "# You can also write temporary files to /kaggle/temp/, but they won't be saved outside of the current session"
   ]
  },
  {
   "cell_type": "markdown",
   "id": "2e4bab37",
   "metadata": {
    "papermill": {
     "duration": 0.004127,
     "end_time": "2025-05-27T12:57:49.663035",
     "exception": false,
     "start_time": "2025-05-27T12:57:49.658908",
     "status": "completed"
    },
    "tags": []
   },
   "source": [
    "Setting the CRS\n",
    "\n",
    "coordinate reference system (CRS) to show how the projected points correspond to real locations on Earth. In this tutorial, you'll learn more about coordinate reference systems, along with how to use them in GeoPandas."
   ]
  },
  {
   "cell_type": "code",
   "execution_count": 3,
   "id": "0f0dfb89",
   "metadata": {
    "execution": {
     "iopub.execute_input": "2025-05-27T12:57:49.673853Z",
     "iopub.status.busy": "2025-05-27T12:57:49.673536Z",
     "iopub.status.idle": "2025-05-27T12:57:50.850786Z",
     "shell.execute_reply": "2025-05-27T12:57:50.849684Z"
    },
    "papermill": {
     "duration": 1.184312,
     "end_time": "2025-05-27T12:57:50.852471",
     "exception": false,
     "start_time": "2025-05-27T12:57:49.668159",
     "status": "completed"
    },
    "tags": []
   },
   "outputs": [
    {
     "name": "stdout",
     "output_type": "stream",
     "text": [
      "EPSG:32630\n"
     ]
    }
   ],
   "source": [
    "regions =gpd.read_file(\"../input/geospatial-learn-course-data/ghana/ghana/Regions/Map_of_Regions_in_Ghana.shp\")\n",
    "print(regions.crs)"
   ]
  },
  {
   "cell_type": "code",
   "execution_count": 4,
   "id": "98764bd1",
   "metadata": {
    "execution": {
     "iopub.execute_input": "2025-05-27T12:57:50.862908Z",
     "iopub.status.busy": "2025-05-27T12:57:50.862592Z",
     "iopub.status.idle": "2025-05-27T12:57:50.891320Z",
     "shell.execute_reply": "2025-05-27T12:57:50.890184Z"
    },
    "papermill": {
     "duration": 0.035995,
     "end_time": "2025-05-27T12:57:50.893077",
     "exception": false,
     "start_time": "2025-05-27T12:57:50.857082",
     "status": "completed"
    },
    "tags": []
   },
   "outputs": [],
   "source": [
    "# Create a DataFrame with health facilities in Ghana\n",
    "facilities_df = pd.read_csv(\"../input/geospatial-learn-course-data/ghana/ghana/health_facilities.csv\")"
   ]
  },
  {
   "cell_type": "code",
   "execution_count": 5,
   "id": "73ba375c",
   "metadata": {
    "execution": {
     "iopub.execute_input": "2025-05-27T12:57:50.904168Z",
     "iopub.status.busy": "2025-05-27T12:57:50.903839Z",
     "iopub.status.idle": "2025-05-27T12:57:50.932663Z",
     "shell.execute_reply": "2025-05-27T12:57:50.929022Z"
    },
    "papermill": {
     "duration": 0.037005,
     "end_time": "2025-05-27T12:57:50.934818",
     "exception": false,
     "start_time": "2025-05-27T12:57:50.897813",
     "status": "completed"
    },
    "tags": []
   },
   "outputs": [
    {
     "data": {
      "text/html": [
       "<div>\n",
       "<style scoped>\n",
       "    .dataframe tbody tr th:only-of-type {\n",
       "        vertical-align: middle;\n",
       "    }\n",
       "\n",
       "    .dataframe tbody tr th {\n",
       "        vertical-align: top;\n",
       "    }\n",
       "\n",
       "    .dataframe thead th {\n",
       "        text-align: right;\n",
       "    }\n",
       "</style>\n",
       "<table border=\"1\" class=\"dataframe\">\n",
       "  <thead>\n",
       "    <tr style=\"text-align: right;\">\n",
       "      <th></th>\n",
       "      <th>Region</th>\n",
       "      <th>District</th>\n",
       "      <th>FacilityName</th>\n",
       "      <th>Type</th>\n",
       "      <th>Town</th>\n",
       "      <th>Ownership</th>\n",
       "      <th>Latitude</th>\n",
       "      <th>Longitude</th>\n",
       "    </tr>\n",
       "  </thead>\n",
       "  <tbody>\n",
       "    <tr>\n",
       "      <th>0</th>\n",
       "      <td>Ashanti</td>\n",
       "      <td>Offinso North</td>\n",
       "      <td>A.M.E Zion Clinic</td>\n",
       "      <td>Clinic</td>\n",
       "      <td>Afrancho</td>\n",
       "      <td>CHAG</td>\n",
       "      <td>7.40801</td>\n",
       "      <td>-1.96317</td>\n",
       "    </tr>\n",
       "    <tr>\n",
       "      <th>1</th>\n",
       "      <td>Ashanti</td>\n",
       "      <td>Bekwai Municipal</td>\n",
       "      <td>Abenkyiman Clinic</td>\n",
       "      <td>Clinic</td>\n",
       "      <td>Anwiankwanta</td>\n",
       "      <td>Private</td>\n",
       "      <td>6.46312</td>\n",
       "      <td>-1.58592</td>\n",
       "    </tr>\n",
       "    <tr>\n",
       "      <th>2</th>\n",
       "      <td>Ashanti</td>\n",
       "      <td>Adansi North</td>\n",
       "      <td>Aboabo Health Centre</td>\n",
       "      <td>Health Centre</td>\n",
       "      <td>Aboabo No 2</td>\n",
       "      <td>Government</td>\n",
       "      <td>6.22393</td>\n",
       "      <td>-1.34982</td>\n",
       "    </tr>\n",
       "    <tr>\n",
       "      <th>3</th>\n",
       "      <td>Ashanti</td>\n",
       "      <td>Afigya-Kwabre</td>\n",
       "      <td>Aboabogya Health Centre</td>\n",
       "      <td>Health Centre</td>\n",
       "      <td>Aboabogya</td>\n",
       "      <td>Government</td>\n",
       "      <td>6.84177</td>\n",
       "      <td>-1.61098</td>\n",
       "    </tr>\n",
       "    <tr>\n",
       "      <th>4</th>\n",
       "      <td>Ashanti</td>\n",
       "      <td>Kwabre</td>\n",
       "      <td>Aboaso Health Centre</td>\n",
       "      <td>Health Centre</td>\n",
       "      <td>Aboaso</td>\n",
       "      <td>Government</td>\n",
       "      <td>6.84177</td>\n",
       "      <td>-1.61098</td>\n",
       "    </tr>\n",
       "  </tbody>\n",
       "</table>\n",
       "</div>"
      ],
      "text/plain": [
       "    Region          District             FacilityName           Type  \\\n",
       "0  Ashanti     Offinso North        A.M.E Zion Clinic         Clinic   \n",
       "1  Ashanti  Bekwai Municipal        Abenkyiman Clinic         Clinic   \n",
       "2  Ashanti      Adansi North     Aboabo Health Centre  Health Centre   \n",
       "3  Ashanti     Afigya-Kwabre  Aboabogya Health Centre  Health Centre   \n",
       "4  Ashanti            Kwabre     Aboaso Health Centre  Health Centre   \n",
       "\n",
       "           Town   Ownership  Latitude  Longitude  \n",
       "0      Afrancho        CHAG   7.40801   -1.96317  \n",
       "1  Anwiankwanta     Private   6.46312   -1.58592  \n",
       "2   Aboabo No 2  Government   6.22393   -1.34982  \n",
       "3     Aboabogya  Government   6.84177   -1.61098  \n",
       "4        Aboaso  Government   6.84177   -1.61098  "
      ]
     },
     "execution_count": 5,
     "metadata": {},
     "output_type": "execute_result"
    }
   ],
   "source": [
    "facilities_df.head()"
   ]
  },
  {
   "cell_type": "code",
   "execution_count": 6,
   "id": "f9a154a3",
   "metadata": {
    "execution": {
     "iopub.execute_input": "2025-05-27T12:57:50.946806Z",
     "iopub.status.busy": "2025-05-27T12:57:50.946509Z",
     "iopub.status.idle": "2025-05-27T12:57:50.954937Z",
     "shell.execute_reply": "2025-05-27T12:57:50.954019Z"
    },
    "papermill": {
     "duration": 0.016177,
     "end_time": "2025-05-27T12:57:50.956708",
     "exception": false,
     "start_time": "2025-05-27T12:57:50.940531",
     "status": "completed"
    },
    "tags": []
   },
   "outputs": [],
   "source": [
    "# Convert the DataFrame to a GeoDataFrame\n",
    "facilities = gpd.GeoDataFrame(facilities_df, geometry=gpd.points_from_xy(facilities_df.Longitude,facilities_df.Latitude))"
   ]
  },
  {
   "cell_type": "code",
   "execution_count": 7,
   "id": "aa975f36",
   "metadata": {
    "execution": {
     "iopub.execute_input": "2025-05-27T12:57:50.967220Z",
     "iopub.status.busy": "2025-05-27T12:57:50.966931Z",
     "iopub.status.idle": "2025-05-27T12:57:50.984548Z",
     "shell.execute_reply": "2025-05-27T12:57:50.983698Z"
    },
    "papermill": {
     "duration": 0.024532,
     "end_time": "2025-05-27T12:57:50.986067",
     "exception": false,
     "start_time": "2025-05-27T12:57:50.961535",
     "status": "completed"
    },
    "tags": []
   },
   "outputs": [
    {
     "data": {
      "text/html": [
       "<div>\n",
       "<style scoped>\n",
       "    .dataframe tbody tr th:only-of-type {\n",
       "        vertical-align: middle;\n",
       "    }\n",
       "\n",
       "    .dataframe tbody tr th {\n",
       "        vertical-align: top;\n",
       "    }\n",
       "\n",
       "    .dataframe thead th {\n",
       "        text-align: right;\n",
       "    }\n",
       "</style>\n",
       "<table border=\"1\" class=\"dataframe\">\n",
       "  <thead>\n",
       "    <tr style=\"text-align: right;\">\n",
       "      <th></th>\n",
       "      <th>Region</th>\n",
       "      <th>District</th>\n",
       "      <th>FacilityName</th>\n",
       "      <th>Type</th>\n",
       "      <th>Town</th>\n",
       "      <th>Ownership</th>\n",
       "      <th>Latitude</th>\n",
       "      <th>Longitude</th>\n",
       "      <th>geometry</th>\n",
       "    </tr>\n",
       "  </thead>\n",
       "  <tbody>\n",
       "    <tr>\n",
       "      <th>0</th>\n",
       "      <td>Ashanti</td>\n",
       "      <td>Offinso North</td>\n",
       "      <td>A.M.E Zion Clinic</td>\n",
       "      <td>Clinic</td>\n",
       "      <td>Afrancho</td>\n",
       "      <td>CHAG</td>\n",
       "      <td>7.40801</td>\n",
       "      <td>-1.96317</td>\n",
       "      <td>POINT (-1.96317 7.40801)</td>\n",
       "    </tr>\n",
       "    <tr>\n",
       "      <th>1</th>\n",
       "      <td>Ashanti</td>\n",
       "      <td>Bekwai Municipal</td>\n",
       "      <td>Abenkyiman Clinic</td>\n",
       "      <td>Clinic</td>\n",
       "      <td>Anwiankwanta</td>\n",
       "      <td>Private</td>\n",
       "      <td>6.46312</td>\n",
       "      <td>-1.58592</td>\n",
       "      <td>POINT (-1.58592 6.46312)</td>\n",
       "    </tr>\n",
       "    <tr>\n",
       "      <th>2</th>\n",
       "      <td>Ashanti</td>\n",
       "      <td>Adansi North</td>\n",
       "      <td>Aboabo Health Centre</td>\n",
       "      <td>Health Centre</td>\n",
       "      <td>Aboabo No 2</td>\n",
       "      <td>Government</td>\n",
       "      <td>6.22393</td>\n",
       "      <td>-1.34982</td>\n",
       "      <td>POINT (-1.34982 6.22393)</td>\n",
       "    </tr>\n",
       "    <tr>\n",
       "      <th>3</th>\n",
       "      <td>Ashanti</td>\n",
       "      <td>Afigya-Kwabre</td>\n",
       "      <td>Aboabogya Health Centre</td>\n",
       "      <td>Health Centre</td>\n",
       "      <td>Aboabogya</td>\n",
       "      <td>Government</td>\n",
       "      <td>6.84177</td>\n",
       "      <td>-1.61098</td>\n",
       "      <td>POINT (-1.61098 6.84177)</td>\n",
       "    </tr>\n",
       "    <tr>\n",
       "      <th>4</th>\n",
       "      <td>Ashanti</td>\n",
       "      <td>Kwabre</td>\n",
       "      <td>Aboaso Health Centre</td>\n",
       "      <td>Health Centre</td>\n",
       "      <td>Aboaso</td>\n",
       "      <td>Government</td>\n",
       "      <td>6.84177</td>\n",
       "      <td>-1.61098</td>\n",
       "      <td>POINT (-1.61098 6.84177)</td>\n",
       "    </tr>\n",
       "  </tbody>\n",
       "</table>\n",
       "</div>"
      ],
      "text/plain": [
       "    Region          District             FacilityName           Type  \\\n",
       "0  Ashanti     Offinso North        A.M.E Zion Clinic         Clinic   \n",
       "1  Ashanti  Bekwai Municipal        Abenkyiman Clinic         Clinic   \n",
       "2  Ashanti      Adansi North     Aboabo Health Centre  Health Centre   \n",
       "3  Ashanti     Afigya-Kwabre  Aboabogya Health Centre  Health Centre   \n",
       "4  Ashanti            Kwabre     Aboaso Health Centre  Health Centre   \n",
       "\n",
       "           Town   Ownership  Latitude  Longitude                  geometry  \n",
       "0      Afrancho        CHAG   7.40801   -1.96317  POINT (-1.96317 7.40801)  \n",
       "1  Anwiankwanta     Private   6.46312   -1.58592  POINT (-1.58592 6.46312)  \n",
       "2   Aboabo No 2  Government   6.22393   -1.34982  POINT (-1.34982 6.22393)  \n",
       "3     Aboabogya  Government   6.84177   -1.61098  POINT (-1.61098 6.84177)  \n",
       "4        Aboaso  Government   6.84177   -1.61098  POINT (-1.61098 6.84177)  "
      ]
     },
     "execution_count": 7,
     "metadata": {},
     "output_type": "execute_result"
    }
   ],
   "source": [
    "facilities.head()"
   ]
  },
  {
   "cell_type": "code",
   "execution_count": 8,
   "id": "2ce304a0",
   "metadata": {
    "execution": {
     "iopub.execute_input": "2025-05-27T12:57:50.997034Z",
     "iopub.status.busy": "2025-05-27T12:57:50.996713Z",
     "iopub.status.idle": "2025-05-27T12:57:51.004996Z",
     "shell.execute_reply": "2025-05-27T12:57:51.003769Z"
    },
    "papermill": {
     "duration": 0.015563,
     "end_time": "2025-05-27T12:57:51.006558",
     "exception": false,
     "start_time": "2025-05-27T12:57:50.990995",
     "status": "completed"
    },
    "tags": []
   },
   "outputs": [
    {
     "name": "stderr",
     "output_type": "stream",
     "text": [
      "/usr/local/lib/python3.11/dist-packages/pyproj/crs/crs.py:143: FutureWarning: '+init=<authority>:<code>' syntax is deprecated. '<authority>:<code>' is the preferred initialization method. When making the change, be mindful of axis order changes: https://pyproj4.github.io/pyproj/stable/gotchas.html#axis-order-changes-in-proj-6\n",
      "  in_crs_string = _prepare_from_proj_string(in_crs_string)\n"
     ]
    }
   ],
   "source": [
    "# Set the coordinate reference system (CRS) to EPSG 4326\n",
    "facilities.crs ={'init':'epsg:4326'}"
   ]
  },
  {
   "cell_type": "code",
   "execution_count": 9,
   "id": "c4d7718f",
   "metadata": {
    "execution": {
     "iopub.execute_input": "2025-05-27T12:57:51.017462Z",
     "iopub.status.busy": "2025-05-27T12:57:51.017122Z",
     "iopub.status.idle": "2025-05-27T12:57:51.031279Z",
     "shell.execute_reply": "2025-05-27T12:57:51.030424Z"
    },
    "papermill": {
     "duration": 0.021327,
     "end_time": "2025-05-27T12:57:51.032826",
     "exception": false,
     "start_time": "2025-05-27T12:57:51.011499",
     "status": "completed"
    },
    "tags": []
   },
   "outputs": [
    {
     "data": {
      "text/html": [
       "<div>\n",
       "<style scoped>\n",
       "    .dataframe tbody tr th:only-of-type {\n",
       "        vertical-align: middle;\n",
       "    }\n",
       "\n",
       "    .dataframe tbody tr th {\n",
       "        vertical-align: top;\n",
       "    }\n",
       "\n",
       "    .dataframe thead th {\n",
       "        text-align: right;\n",
       "    }\n",
       "</style>\n",
       "<table border=\"1\" class=\"dataframe\">\n",
       "  <thead>\n",
       "    <tr style=\"text-align: right;\">\n",
       "      <th></th>\n",
       "      <th>Region</th>\n",
       "      <th>District</th>\n",
       "      <th>FacilityName</th>\n",
       "      <th>Type</th>\n",
       "      <th>Town</th>\n",
       "      <th>Ownership</th>\n",
       "      <th>Latitude</th>\n",
       "      <th>Longitude</th>\n",
       "      <th>geometry</th>\n",
       "    </tr>\n",
       "  </thead>\n",
       "  <tbody>\n",
       "    <tr>\n",
       "      <th>0</th>\n",
       "      <td>Ashanti</td>\n",
       "      <td>Offinso North</td>\n",
       "      <td>A.M.E Zion Clinic</td>\n",
       "      <td>Clinic</td>\n",
       "      <td>Afrancho</td>\n",
       "      <td>CHAG</td>\n",
       "      <td>7.40801</td>\n",
       "      <td>-1.96317</td>\n",
       "      <td>POINT (-1.96317 7.40801)</td>\n",
       "    </tr>\n",
       "    <tr>\n",
       "      <th>1</th>\n",
       "      <td>Ashanti</td>\n",
       "      <td>Bekwai Municipal</td>\n",
       "      <td>Abenkyiman Clinic</td>\n",
       "      <td>Clinic</td>\n",
       "      <td>Anwiankwanta</td>\n",
       "      <td>Private</td>\n",
       "      <td>6.46312</td>\n",
       "      <td>-1.58592</td>\n",
       "      <td>POINT (-1.58592 6.46312)</td>\n",
       "    </tr>\n",
       "    <tr>\n",
       "      <th>2</th>\n",
       "      <td>Ashanti</td>\n",
       "      <td>Adansi North</td>\n",
       "      <td>Aboabo Health Centre</td>\n",
       "      <td>Health Centre</td>\n",
       "      <td>Aboabo No 2</td>\n",
       "      <td>Government</td>\n",
       "      <td>6.22393</td>\n",
       "      <td>-1.34982</td>\n",
       "      <td>POINT (-1.34982 6.22393)</td>\n",
       "    </tr>\n",
       "    <tr>\n",
       "      <th>3</th>\n",
       "      <td>Ashanti</td>\n",
       "      <td>Afigya-Kwabre</td>\n",
       "      <td>Aboabogya Health Centre</td>\n",
       "      <td>Health Centre</td>\n",
       "      <td>Aboabogya</td>\n",
       "      <td>Government</td>\n",
       "      <td>6.84177</td>\n",
       "      <td>-1.61098</td>\n",
       "      <td>POINT (-1.61098 6.84177)</td>\n",
       "    </tr>\n",
       "    <tr>\n",
       "      <th>4</th>\n",
       "      <td>Ashanti</td>\n",
       "      <td>Kwabre</td>\n",
       "      <td>Aboaso Health Centre</td>\n",
       "      <td>Health Centre</td>\n",
       "      <td>Aboaso</td>\n",
       "      <td>Government</td>\n",
       "      <td>6.84177</td>\n",
       "      <td>-1.61098</td>\n",
       "      <td>POINT (-1.61098 6.84177)</td>\n",
       "    </tr>\n",
       "  </tbody>\n",
       "</table>\n",
       "</div>"
      ],
      "text/plain": [
       "    Region          District             FacilityName           Type  \\\n",
       "0  Ashanti     Offinso North        A.M.E Zion Clinic         Clinic   \n",
       "1  Ashanti  Bekwai Municipal        Abenkyiman Clinic         Clinic   \n",
       "2  Ashanti      Adansi North     Aboabo Health Centre  Health Centre   \n",
       "3  Ashanti     Afigya-Kwabre  Aboabogya Health Centre  Health Centre   \n",
       "4  Ashanti            Kwabre     Aboaso Health Centre  Health Centre   \n",
       "\n",
       "           Town   Ownership  Latitude  Longitude                  geometry  \n",
       "0      Afrancho        CHAG   7.40801   -1.96317  POINT (-1.96317 7.40801)  \n",
       "1  Anwiankwanta     Private   6.46312   -1.58592  POINT (-1.58592 6.46312)  \n",
       "2   Aboabo No 2  Government   6.22393   -1.34982  POINT (-1.34982 6.22393)  \n",
       "3     Aboabogya  Government   6.84177   -1.61098  POINT (-1.61098 6.84177)  \n",
       "4        Aboaso  Government   6.84177   -1.61098  POINT (-1.61098 6.84177)  "
      ]
     },
     "execution_count": 9,
     "metadata": {},
     "output_type": "execute_result"
    }
   ],
   "source": [
    "facilities.head()"
   ]
  },
  {
   "cell_type": "markdown",
   "id": "7100477f",
   "metadata": {
    "papermill": {
     "duration": 0.005263,
     "end_time": "2025-05-27T12:57:51.043190",
     "exception": false,
     "start_time": "2025-05-27T12:57:51.037927",
     "status": "completed"
    },
    "tags": []
   },
   "source": [
    "# Re-projection"
   ]
  },
  {
   "cell_type": "code",
   "execution_count": 10,
   "id": "0b230a26",
   "metadata": {
    "execution": {
     "iopub.execute_input": "2025-05-27T12:57:51.054245Z",
     "iopub.status.busy": "2025-05-27T12:57:51.053943Z",
     "iopub.status.idle": "2025-05-27T12:57:51.391458Z",
     "shell.execute_reply": "2025-05-27T12:57:51.390417Z"
    },
    "papermill": {
     "duration": 0.344907,
     "end_time": "2025-05-27T12:57:51.392955",
     "exception": false,
     "start_time": "2025-05-27T12:57:51.048048",
     "status": "completed"
    },
    "tags": []
   },
   "outputs": [
    {
     "data": {
      "text/plain": [
       "<Axes: >"
      ]
     },
     "execution_count": 10,
     "metadata": {},
     "output_type": "execute_result"
    },
    {
     "data": {
      "image/png": "[encoded data removed]",
      "text/plain": [
       "<Figure size 640x480 with 1 Axes>"
      ]
     },
     "metadata": {},
     "output_type": "display_data"
    }
   ],
   "source": [
    "regions.plot()"
   ]
  },
  {
   "cell_type": "code",
   "execution_count": 11,
   "id": "55adf0a8",
   "metadata": {
    "execution": {
     "iopub.execute_input": "2025-05-27T12:57:51.407567Z",
     "iopub.status.busy": "2025-05-27T12:57:51.407241Z",
     "iopub.status.idle": "2025-05-27T12:57:51.766786Z",
     "shell.execute_reply": "2025-05-27T12:57:51.765372Z"
    },
    "papermill": {
     "duration": 0.36878,
     "end_time": "2025-05-27T12:57:51.768745",
     "exception": false,
     "start_time": "2025-05-27T12:57:51.399965",
     "status": "completed"
    },
    "tags": []
   },
   "outputs": [
    {
     "data": {
      "text/plain": [
       "<Axes: >"
      ]
     },
     "execution_count": 11,
     "metadata": {},
     "output_type": "execute_result"
    },
    {
     "data": {
      "image/png": "[encoded data removed]",
      "text/plain": [
       "<Figure size 640x480 with 1 Axes>"
      ]
     },
     "metadata": {},
     "output_type": "display_data"
    }
   ],
   "source": [
    "facilities.plot()"
   ]
  },
  {
   "cell_type": "markdown",
   "id": "4d8e05ba",
   "metadata": {
    "papermill": {
     "duration": 0.005914,
     "end_time": "2025-05-27T12:57:51.781357",
     "exception": false,
     "start_time": "2025-05-27T12:57:51.775443",
     "status": "completed"
    },
    "tags": []
   },
   "source": [
    "the to_crs() method modifies the geometry column. "
   ]
  },
  {
   "cell_type": "code",
   "execution_count": 12,
   "id": "cf919aa5",
   "metadata": {
    "execution": {
     "iopub.execute_input": "2025-05-27T12:57:51.794989Z",
     "iopub.status.busy": "2025-05-27T12:57:51.794689Z",
     "iopub.status.idle": "2025-05-27T12:57:52.691809Z",
     "shell.execute_reply": "2025-05-27T12:57:52.690788Z"
    },
    "papermill": {
     "duration": 0.907257,
     "end_time": "2025-05-27T12:57:52.694716",
     "exception": false,
     "start_time": "2025-05-27T12:57:51.787459",
     "status": "completed"
    },
    "tags": []
   },
   "outputs": [
    {
     "data": {
      "text/plain": [
       "<Axes: >"
      ]
     },
     "execution_count": 12,
     "metadata": {},
     "output_type": "execute_result"
    },
    {
     "data": {
      "image/png": "[encoded data removed]",
      "text/plain": [
       "<Figure size 800x800 with 1 Axes>"
      ]
     },
     "metadata": {},
     "output_type": "display_data"
    }
   ],
   "source": [
    "ax = regions.plot(figsize=(8,8),color='whitesmoke',linestyle=':',edgecolor='black')\n",
    "facilities.to_crs(epsg=32630).plot(markersize=1, ax=ax)"
   ]
  },
  {
   "cell_type": "code",
   "execution_count": 13,
   "id": "9e73aced",
   "metadata": {
    "execution": {
     "iopub.execute_input": "2025-05-27T12:57:52.715703Z",
     "iopub.status.busy": "2025-05-27T12:57:52.715180Z",
     "iopub.status.idle": "2025-05-27T12:57:52.732023Z",
     "shell.execute_reply": "2025-05-27T12:57:52.730583Z"
    },
    "papermill": {
     "duration": 0.029468,
     "end_time": "2025-05-27T12:57:52.733710",
     "exception": false,
     "start_time": "2025-05-27T12:57:52.704242",
     "status": "completed"
    },
    "tags": []
   },
   "outputs": [
    {
     "data": {
      "text/html": [
       "<div>\n",
       "<style scoped>\n",
       "    .dataframe tbody tr th:only-of-type {\n",
       "        vertical-align: middle;\n",
       "    }\n",
       "\n",
       "    .dataframe tbody tr th {\n",
       "        vertical-align: top;\n",
       "    }\n",
       "\n",
       "    .dataframe thead th {\n",
       "        text-align: right;\n",
       "    }\n",
       "</style>\n",
       "<table border=\"1\" class=\"dataframe\">\n",
       "  <thead>\n",
       "    <tr style=\"text-align: right;\">\n",
       "      <th></th>\n",
       "      <th>Region</th>\n",
       "      <th>District</th>\n",
       "      <th>FacilityName</th>\n",
       "      <th>Type</th>\n",
       "      <th>Town</th>\n",
       "      <th>Ownership</th>\n",
       "      <th>Latitude</th>\n",
       "      <th>Longitude</th>\n",
       "      <th>geometry</th>\n",
       "    </tr>\n",
       "  </thead>\n",
       "  <tbody>\n",
       "    <tr>\n",
       "      <th>0</th>\n",
       "      <td>Ashanti</td>\n",
       "      <td>Offinso North</td>\n",
       "      <td>A.M.E Zion Clinic</td>\n",
       "      <td>Clinic</td>\n",
       "      <td>Afrancho</td>\n",
       "      <td>CHAG</td>\n",
       "      <td>7.40801</td>\n",
       "      <td>-1.96317</td>\n",
       "      <td>POINT (-1.96317 7.40801)</td>\n",
       "    </tr>\n",
       "    <tr>\n",
       "      <th>1</th>\n",
       "      <td>Ashanti</td>\n",
       "      <td>Bekwai Municipal</td>\n",
       "      <td>Abenkyiman Clinic</td>\n",
       "      <td>Clinic</td>\n",
       "      <td>Anwiankwanta</td>\n",
       "      <td>Private</td>\n",
       "      <td>6.46312</td>\n",
       "      <td>-1.58592</td>\n",
       "      <td>POINT (-1.58592 6.46312)</td>\n",
       "    </tr>\n",
       "    <tr>\n",
       "      <th>2</th>\n",
       "      <td>Ashanti</td>\n",
       "      <td>Adansi North</td>\n",
       "      <td>Aboabo Health Centre</td>\n",
       "      <td>Health Centre</td>\n",
       "      <td>Aboabo No 2</td>\n",
       "      <td>Government</td>\n",
       "      <td>6.22393</td>\n",
       "      <td>-1.34982</td>\n",
       "      <td>POINT (-1.34982 6.22393)</td>\n",
       "    </tr>\n",
       "    <tr>\n",
       "      <th>3</th>\n",
       "      <td>Ashanti</td>\n",
       "      <td>Afigya-Kwabre</td>\n",
       "      <td>Aboabogya Health Centre</td>\n",
       "      <td>Health Centre</td>\n",
       "      <td>Aboabogya</td>\n",
       "      <td>Government</td>\n",
       "      <td>6.84177</td>\n",
       "      <td>-1.61098</td>\n",
       "      <td>POINT (-1.61098 6.84177)</td>\n",
       "    </tr>\n",
       "    <tr>\n",
       "      <th>4</th>\n",
       "      <td>Ashanti</td>\n",
       "      <td>Kwabre</td>\n",
       "      <td>Aboaso Health Centre</td>\n",
       "      <td>Health Centre</td>\n",
       "      <td>Aboaso</td>\n",
       "      <td>Government</td>\n",
       "      <td>6.84177</td>\n",
       "      <td>-1.61098</td>\n",
       "      <td>POINT (-1.61098 6.84177)</td>\n",
       "    </tr>\n",
       "  </tbody>\n",
       "</table>\n",
       "</div>"
      ],
      "text/plain": [
       "    Region          District             FacilityName           Type  \\\n",
       "0  Ashanti     Offinso North        A.M.E Zion Clinic         Clinic   \n",
       "1  Ashanti  Bekwai Municipal        Abenkyiman Clinic         Clinic   \n",
       "2  Ashanti      Adansi North     Aboabo Health Centre  Health Centre   \n",
       "3  Ashanti     Afigya-Kwabre  Aboabogya Health Centre  Health Centre   \n",
       "4  Ashanti            Kwabre     Aboaso Health Centre  Health Centre   \n",
       "\n",
       "           Town   Ownership  Latitude  Longitude                  geometry  \n",
       "0      Afrancho        CHAG   7.40801   -1.96317  POINT (-1.96317 7.40801)  \n",
       "1  Anwiankwanta     Private   6.46312   -1.58592  POINT (-1.58592 6.46312)  \n",
       "2   Aboabo No 2  Government   6.22393   -1.34982  POINT (-1.34982 6.22393)  \n",
       "3     Aboabogya  Government   6.84177   -1.61098  POINT (-1.61098 6.84177)  \n",
       "4        Aboaso  Government   6.84177   -1.61098  POINT (-1.61098 6.84177)  "
      ]
     },
     "execution_count": 13,
     "metadata": {},
     "output_type": "execute_result"
    }
   ],
   "source": [
    "facilities.head()"
   ]
  },
  {
   "cell_type": "code",
   "execution_count": 14,
   "id": "708c9002",
   "metadata": {
    "execution": {
     "iopub.execute_input": "2025-05-27T12:57:52.754027Z",
     "iopub.status.busy": "2025-05-27T12:57:52.753686Z",
     "iopub.status.idle": "2025-05-27T12:57:52.773810Z",
     "shell.execute_reply": "2025-05-27T12:57:52.771602Z"
    },
    "papermill": {
     "duration": 0.035022,
     "end_time": "2025-05-27T12:57:52.778206",
     "exception": false,
     "start_time": "2025-05-27T12:57:52.743184",
     "status": "completed"
    },
    "tags": []
   },
   "outputs": [
    {
     "data": {
      "text/html": [
       "<div>\n",
       "<style scoped>\n",
       "    .dataframe tbody tr th:only-of-type {\n",
       "        vertical-align: middle;\n",
       "    }\n",
       "\n",
       "    .dataframe tbody tr th {\n",
       "        vertical-align: top;\n",
       "    }\n",
       "\n",
       "    .dataframe thead th {\n",
       "        text-align: right;\n",
       "    }\n",
       "</style>\n",
       "<table border=\"1\" class=\"dataframe\">\n",
       "  <thead>\n",
       "    <tr style=\"text-align: right;\">\n",
       "      <th></th>\n",
       "      <th>Region</th>\n",
       "      <th>District</th>\n",
       "      <th>FacilityName</th>\n",
       "      <th>Type</th>\n",
       "      <th>Town</th>\n",
       "      <th>Ownership</th>\n",
       "      <th>Latitude</th>\n",
       "      <th>Longitude</th>\n",
       "      <th>geometry</th>\n",
       "    </tr>\n",
       "  </thead>\n",
       "  <tbody>\n",
       "    <tr>\n",
       "      <th>0</th>\n",
       "      <td>Ashanti</td>\n",
       "      <td>Offinso North</td>\n",
       "      <td>A.M.E Zion Clinic</td>\n",
       "      <td>Clinic</td>\n",
       "      <td>Afrancho</td>\n",
       "      <td>CHAG</td>\n",
       "      <td>7.40801</td>\n",
       "      <td>-1.96317</td>\n",
       "      <td>POINT (614422.662 818986.851)</td>\n",
       "    </tr>\n",
       "    <tr>\n",
       "      <th>1</th>\n",
       "      <td>Ashanti</td>\n",
       "      <td>Bekwai Municipal</td>\n",
       "      <td>Abenkyiman Clinic</td>\n",
       "      <td>Clinic</td>\n",
       "      <td>Anwiankwanta</td>\n",
       "      <td>Private</td>\n",
       "      <td>6.46312</td>\n",
       "      <td>-1.58592</td>\n",
       "      <td>POINT (656373.863 714616.547)</td>\n",
       "    </tr>\n",
       "    <tr>\n",
       "      <th>2</th>\n",
       "      <td>Ashanti</td>\n",
       "      <td>Adansi North</td>\n",
       "      <td>Aboabo Health Centre</td>\n",
       "      <td>Health Centre</td>\n",
       "      <td>Aboabo No 2</td>\n",
       "      <td>Government</td>\n",
       "      <td>6.22393</td>\n",
       "      <td>-1.34982</td>\n",
       "      <td>POINT (682573.395 688243.477)</td>\n",
       "    </tr>\n",
       "    <tr>\n",
       "      <th>3</th>\n",
       "      <td>Ashanti</td>\n",
       "      <td>Afigya-Kwabre</td>\n",
       "      <td>Aboabogya Health Centre</td>\n",
       "      <td>Health Centre</td>\n",
       "      <td>Aboabogya</td>\n",
       "      <td>Government</td>\n",
       "      <td>6.84177</td>\n",
       "      <td>-1.61098</td>\n",
       "      <td>POINT (653484.490 756478.812)</td>\n",
       "    </tr>\n",
       "    <tr>\n",
       "      <th>4</th>\n",
       "      <td>Ashanti</td>\n",
       "      <td>Kwabre</td>\n",
       "      <td>Aboaso Health Centre</td>\n",
       "      <td>Health Centre</td>\n",
       "      <td>Aboaso</td>\n",
       "      <td>Government</td>\n",
       "      <td>6.84177</td>\n",
       "      <td>-1.61098</td>\n",
       "      <td>POINT (653484.490 756478.812)</td>\n",
       "    </tr>\n",
       "  </tbody>\n",
       "</table>\n",
       "</div>"
      ],
      "text/plain": [
       "    Region          District             FacilityName           Type  \\\n",
       "0  Ashanti     Offinso North        A.M.E Zion Clinic         Clinic   \n",
       "1  Ashanti  Bekwai Municipal        Abenkyiman Clinic         Clinic   \n",
       "2  Ashanti      Adansi North     Aboabo Health Centre  Health Centre   \n",
       "3  Ashanti     Afigya-Kwabre  Aboabogya Health Centre  Health Centre   \n",
       "4  Ashanti            Kwabre     Aboaso Health Centre  Health Centre   \n",
       "\n",
       "           Town   Ownership  Latitude  Longitude  \\\n",
       "0      Afrancho        CHAG   7.40801   -1.96317   \n",
       "1  Anwiankwanta     Private   6.46312   -1.58592   \n",
       "2   Aboabo No 2  Government   6.22393   -1.34982   \n",
       "3     Aboabogya  Government   6.84177   -1.61098   \n",
       "4        Aboaso  Government   6.84177   -1.61098   \n",
       "\n",
       "                        geometry  \n",
       "0  POINT (614422.662 818986.851)  \n",
       "1  POINT (656373.863 714616.547)  \n",
       "2  POINT (682573.395 688243.477)  \n",
       "3  POINT (653484.490 756478.812)  \n",
       "4  POINT (653484.490 756478.812)  "
      ]
     },
     "execution_count": 14,
     "metadata": {},
     "output_type": "execute_result"
    }
   ],
   "source": [
    "facilities.to_crs(epsg=32630).head()"
   ]
  },
  {
   "cell_type": "markdown",
   "id": "360e2b6a",
   "metadata": {
    "papermill": {
     "duration": 0.008469,
     "end_time": "2025-05-27T12:57:52.798505",
     "exception": false,
     "start_time": "2025-05-27T12:57:52.790036",
     "status": "completed"
    },
    "tags": []
   },
   "source": [
    "If EPSG Code is not avilable in Geopandas, we can change the CRS using \"proj4 string\" of the CRS"
   ]
  },
  {
   "cell_type": "code",
   "execution_count": 15,
   "id": "48219645",
   "metadata": {
    "execution": {
     "iopub.execute_input": "2025-05-27T12:57:52.818849Z",
     "iopub.status.busy": "2025-05-27T12:57:52.818555Z",
     "iopub.status.idle": "2025-05-27T12:57:53.199969Z",
     "shell.execute_reply": "2025-05-27T12:57:53.198976Z"
    },
    "papermill": {
     "duration": 0.394443,
     "end_time": "2025-05-27T12:57:53.201727",
     "exception": false,
     "start_time": "2025-05-27T12:57:52.807284",
     "status": "completed"
    },
    "tags": []
   },
   "outputs": [
    {
     "data": {
      "text/html": [
       "<div>\n",
       "<style scoped>\n",
       "    .dataframe tbody tr th:only-of-type {\n",
       "        vertical-align: middle;\n",
       "    }\n",
       "\n",
       "    .dataframe tbody tr th {\n",
       "        vertical-align: top;\n",
       "    }\n",
       "\n",
       "    .dataframe thead th {\n",
       "        text-align: right;\n",
       "    }\n",
       "</style>\n",
       "<table border=\"1\" class=\"dataframe\">\n",
       "  <thead>\n",
       "    <tr style=\"text-align: right;\">\n",
       "      <th></th>\n",
       "      <th>Region</th>\n",
       "      <th>geometry</th>\n",
       "    </tr>\n",
       "  </thead>\n",
       "  <tbody>\n",
       "    <tr>\n",
       "      <th>0</th>\n",
       "      <td>Ashanti</td>\n",
       "      <td>POLYGON ((-1.30985 7.62302, -1.30786 7.62198, ...</td>\n",
       "    </tr>\n",
       "    <tr>\n",
       "      <th>1</th>\n",
       "      <td>Brong Ahafo</td>\n",
       "      <td>POLYGON ((-2.54567 8.76089, -2.54473 8.76071, ...</td>\n",
       "    </tr>\n",
       "    <tr>\n",
       "      <th>2</th>\n",
       "      <td>Central</td>\n",
       "      <td>POLYGON ((-2.06723 6.29473, -2.06658 6.29420, ...</td>\n",
       "    </tr>\n",
       "    <tr>\n",
       "      <th>3</th>\n",
       "      <td>Eastern</td>\n",
       "      <td>POLYGON ((-0.21751 7.21009, -0.21747 7.20993, ...</td>\n",
       "    </tr>\n",
       "    <tr>\n",
       "      <th>4</th>\n",
       "      <td>Greater Accra</td>\n",
       "      <td>POLYGON ((0.23456 6.10986, 0.23484 6.10974, 0....</td>\n",
       "    </tr>\n",
       "  </tbody>\n",
       "</table>\n",
       "</div>"
      ],
      "text/plain": [
       "          Region                                           geometry\n",
       "0        Ashanti  POLYGON ((-1.30985 7.62302, -1.30786 7.62198, ...\n",
       "1    Brong Ahafo  POLYGON ((-2.54567 8.76089, -2.54473 8.76071, ...\n",
       "2        Central  POLYGON ((-2.06723 6.29473, -2.06658 6.29420, ...\n",
       "3        Eastern  POLYGON ((-0.21751 7.21009, -0.21747 7.20993, ...\n",
       "4  Greater Accra  POLYGON ((0.23456 6.10986, 0.23484 6.10974, 0...."
      ]
     },
     "execution_count": 15,
     "metadata": {},
     "output_type": "execute_result"
    }
   ],
   "source": [
    "# Change the CRS to EPSG 4326\n",
    "regions.to_crs(\"+proj=longlat +ellps=WGS84 +datum=WGS84 +no_defs\").head()"
   ]
  },
  {
   "cell_type": "markdown",
   "id": "462a2fd4",
   "metadata": {
    "papermill": {
     "duration": 0.008221,
     "end_time": "2025-05-27T12:57:53.218383",
     "exception": false,
     "start_time": "2025-05-27T12:57:53.210162",
     "status": "completed"
    },
    "tags": []
   },
   "source": [
    "# Attribute of geometric objects\n",
    "\n",
    "The type in the geomentry column depends on what we are trying to show: for instance, we might use:\n",
    "\n",
    "- a point for the epicenter of an earthquake.\n",
    "- a linestring for a street or\n",
    "- a polygon to show contry boundaries"
   ]
  },
  {
   "cell_type": "code",
   "execution_count": 16,
   "id": "d6f81e80",
   "metadata": {
    "execution": {
     "iopub.execute_input": "2025-05-27T12:57:53.237131Z",
     "iopub.status.busy": "2025-05-27T12:57:53.236858Z",
     "iopub.status.idle": "2025-05-27T12:57:53.244725Z",
     "shell.execute_reply": "2025-05-27T12:57:53.243759Z"
    },
    "papermill": {
     "duration": 0.019657,
     "end_time": "2025-05-27T12:57:53.246402",
     "exception": false,
     "start_time": "2025-05-27T12:57:53.226745",
     "status": "completed"
    },
    "tags": []
   },
   "outputs": [
    {
     "data": {
      "text/plain": [
       "0    POINT (-1.96317 7.40801)\n",
       "1    POINT (-1.58592 6.46312)\n",
       "2    POINT (-1.34982 6.22393)\n",
       "3    POINT (-1.61098 6.84177)\n",
       "4    POINT (-1.61098 6.84177)\n",
       "Name: geometry, dtype: geometry"
      ]
     },
     "execution_count": 16,
     "metadata": {},
     "output_type": "execute_result"
    }
   ],
   "source": [
    "facilities.geometry.head()"
   ]
  },
  {
   "cell_type": "markdown",
   "id": "2cac86fd",
   "metadata": {
    "papermill": {
     "duration": 0.009063,
     "end_time": "2025-05-27T12:57:53.264212",
     "exception": false,
     "start_time": "2025-05-27T12:57:53.255149",
     "status": "completed"
    },
    "tags": []
   },
   "source": [
    "Calculating Area in Square meter"
   ]
  },
  {
   "cell_type": "code",
   "execution_count": 17,
   "id": "46f2e266",
   "metadata": {
    "execution": {
     "iopub.execute_input": "2025-05-27T12:57:53.287085Z",
     "iopub.status.busy": "2025-05-27T12:57:53.286797Z",
     "iopub.status.idle": "2025-05-27T12:57:53.705673Z",
     "shell.execute_reply": "2025-05-27T12:57:53.704738Z"
    },
    "papermill": {
     "duration": 0.431035,
     "end_time": "2025-05-27T12:57:53.707208",
     "exception": false,
     "start_time": "2025-05-27T12:57:53.276173",
     "status": "completed"
    },
    "tags": []
   },
   "outputs": [
    {
     "name": "stdout",
     "output_type": "stream",
     "text": [
      "Area of Ghana: 239584.5760055668 square kilometers\n",
      "CRS: EPSG:32630\n"
     ]
    },
    {
     "data": {
      "text/html": [
       "<div>\n",
       "<style scoped>\n",
       "    .dataframe tbody tr th:only-of-type {\n",
       "        vertical-align: middle;\n",
       "    }\n",
       "\n",
       "    .dataframe tbody tr th {\n",
       "        vertical-align: top;\n",
       "    }\n",
       "\n",
       "    .dataframe thead th {\n",
       "        text-align: right;\n",
       "    }\n",
       "</style>\n",
       "<table border=\"1\" class=\"dataframe\">\n",
       "  <thead>\n",
       "    <tr style=\"text-align: right;\">\n",
       "      <th></th>\n",
       "      <th>Region</th>\n",
       "      <th>geometry</th>\n",
       "      <th>AREA</th>\n",
       "    </tr>\n",
       "  </thead>\n",
       "  <tbody>\n",
       "    <tr>\n",
       "      <th>0</th>\n",
       "      <td>Ashanti</td>\n",
       "      <td>POLYGON ((686446.075 842986.894, 686666.193 84...</td>\n",
       "      <td>24379.017777</td>\n",
       "    </tr>\n",
       "    <tr>\n",
       "      <th>1</th>\n",
       "      <td>Brong Ahafo</td>\n",
       "      <td>POLYGON ((549970.457 968447.094, 550073.003 96...</td>\n",
       "      <td>40098.168231</td>\n",
       "    </tr>\n",
       "    <tr>\n",
       "      <th>2</th>\n",
       "      <td>Central</td>\n",
       "      <td>POLYGON ((603176.584 695877.238, 603248.424 69...</td>\n",
       "      <td>9665.626760</td>\n",
       "    </tr>\n",
       "    <tr>\n",
       "      <th>3</th>\n",
       "      <td>Eastern</td>\n",
       "      <td>POLYGON ((807307.254 797910.553, 807311.908 79...</td>\n",
       "      <td>18987.625847</td>\n",
       "    </tr>\n",
       "    <tr>\n",
       "      <th>4</th>\n",
       "      <td>Greater Accra</td>\n",
       "      <td>POLYGON ((858081.638 676424.913, 858113.115 67...</td>\n",
       "      <td>3706.511145</td>\n",
       "    </tr>\n",
       "  </tbody>\n",
       "</table>\n",
       "</div>"
      ],
      "text/plain": [
       "          Region                                           geometry  \\\n",
       "0        Ashanti  POLYGON ((686446.075 842986.894, 686666.193 84...   \n",
       "1    Brong Ahafo  POLYGON ((549970.457 968447.094, 550073.003 96...   \n",
       "2        Central  POLYGON ((603176.584 695877.238, 603248.424 69...   \n",
       "3        Eastern  POLYGON ((807307.254 797910.553, 807311.908 79...   \n",
       "4  Greater Accra  POLYGON ((858081.638 676424.913, 858113.115 67...   \n",
       "\n",
       "           AREA  \n",
       "0  24379.017777  \n",
       "1  40098.168231  \n",
       "2   9665.626760  \n",
       "3  18987.625847  \n",
       "4   3706.511145  "
      ]
     },
     "execution_count": 17,
     "metadata": {},
     "output_type": "execute_result"
    }
   ],
   "source": [
    "# Calculate the area (in square meters) of each polygon in the GeoDataFrame \n",
    "regions.loc[:, \"AREA\"] = regions.geometry.area / 10**6\n",
    "\n",
    "print(\"Area of Ghana: {} square kilometers\".format(regions.AREA.sum()))\n",
    "print(\"CRS:\", regions.crs)\n",
    "regions.head()"
   ]
  }
 ],
 "metadata": {
  "kaggle": {
   "accelerator": "none",
   "dataSources": [
    {
     "datasetId": 348259,
     "sourceId": 695175,
     "sourceType": "datasetVersion"
    }
   ],
   "dockerImageVersionId": 31040,
   "isGpuEnabled": false,
   "isInternetEnabled": false,
   "language": "python",
   "sourceType": "notebook"
  },
  "kernelspec": {
   "display_name": "Python 3",
   "language": "python",
   "name": "python3"
  },
  "language_info": {
   "codemirror_mode": {
    "name": "ipython",
    "version": 3
   },
   "file_extension": ".py",
   "mimetype": "text/x-python",
   "name": "python",
   "nbconvert_exporter": "python",
   "pygments_lexer": "ipython3",
   "version": "3.11.11"
  },
  "papermill": {
   "default_parameters": {},
   "duration": 13.239071,
   "end_time": "2025-05-27T12:57:54.536705",
   "environment_variables": {},
   "exception": null,
   "input_path": "__notebook__.ipynb",
   "output_path": "__notebook__.ipynb",
   "parameters": {},
   "start_time": "2025-05-27T12:57:41.297634",
   "version": "2.6.0"
  }
 },
 "nbformat": 4,
 "nbformat_minor": 5
}
